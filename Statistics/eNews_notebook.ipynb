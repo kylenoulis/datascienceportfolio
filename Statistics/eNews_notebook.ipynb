{
 "cells": [
  {
   "cell_type": "markdown",
   "id": "6yDxo9u0d9Na",
   "metadata": {
    "id": "6yDxo9u0d9Na"
   },
   "source": [
    "# Project Business Statistics: E-news Express\n",
    "\n",
    "**Marks: 60**"
   ]
  },
  {
   "cell_type": "markdown",
   "id": "SrLd-ICEmPSD",
   "metadata": {
    "id": "SrLd-ICEmPSD"
   },
   "source": [
    "## Define Problem Statement and Objectives"
   ]
  },
  {
   "cell_type": "markdown",
   "id": "9Vt1PLLqmXNn",
   "metadata": {
    "id": "9Vt1PLLqmXNn"
   },
   "source": [
    "### Problem Statement\n",
    "\n",
    "E-news Express, an online news portal, wants to grow its business through the acquisition of new subscribers. The executive leadership team at E-news is concerned about a decline in new subscribers compared to last year and think that the current webpage design is to blame.\n",
    "\n",
    "A new landing page has been created and E-news would like to test its effectiveness at driving user engagement and its impact on converting users to new subscribers.\n",
    "\n",
    "### Objectives\n",
    "\n",
    "A random sample of 100 users has been selected. This sample will be evenly split into two groups. The first group, the control group, will be served the existing landing page; the second group, the treatment group, will be served the new landing page.\n",
    "\n",
    "Through this A/B testing, E-news would like to determine the following:\n",
    "- Are users spending more time on the new landing page or the old landing page?\n",
    "- Is the conversion rate for the new landing page higher than that of the old landing page?\n",
    "- Does user conversion depend on the user's preferred language?\n",
    "- Does user's preferred language make a difference in time spent on the new landing page?\n",
    "\n",
    "All statistical analysis will be preformed using a significance level of 5%.\n",
    "\n",
    "### Data Dictionary\n",
    "\n",
    "1. user_id - Unique user ID of the person visiting the website\n",
    "2. group - Whether the user belongs to the first group (control) or the second group (treatment)\n",
    "3. landing_page - Whether the landing page is new or old\n",
    "4. time_spent_on_the_page - Time (in minutes) spent by the user on the landing page\n",
    "5. converted - Whether the user gets converted to a subscriber of the news portal or not\n",
    "6. language_preferred - Language chosen by the user to view the landing page"
   ]
  },
  {
   "cell_type": "markdown",
   "id": "a6a3d218",
   "metadata": {
    "id": "a6a3d218"
   },
   "source": [
    "## Import all the necessary libraries, define alpha, and define p-value compare function"
   ]
  },
  {
   "cell_type": "code",
   "execution_count": 1,
   "id": "658c5dec",
   "metadata": {
    "id": "658c5dec"
   },
   "outputs": [],
   "source": [
    "#importing libraries\n",
    "import numpy as np\n",
    "import pandas as pd\n",
    "from matplotlib import pyplot as plt\n",
    "import seaborn as sns\n",
    "\n",
    "#setting alpha value\n",
    "alpha = 0.05\n",
    "\n",
    "#define function to compare p-value and alpha\n",
    "def pval_comp(x):\n",
    "    '''\n",
    "    x = p-value to pass in\n",
    "    '''\n",
    "    if x < alpha:\n",
    "        print(f'Since the p-value {x} is less than {alpha}, we reject the null hypothesis.')\n",
    "    elif x == alpha:\n",
    "        print(f'Since the p-value {x} is equal to {alpha}, we reject the null hypothesis.')\n",
    "    else:\n",
    "        print(f'Since the p-value {x} is greater than {alpha}, we fail to reject the null hypothesis.')"
   ]
  },
  {
   "cell_type": "markdown",
   "id": "6970dd99",
   "metadata": {
    "id": "6970dd99"
   },
   "source": [
    "## Reading the Data into a DataFrame"
   ]
  },
  {
   "cell_type": "code",
   "execution_count": 2,
   "id": "d3b95640",
   "metadata": {
    "id": "d3b95640"
   },
   "outputs": [],
   "source": [
    "#reading in data\n",
    "enews = pd.read_csv('abtest.csv')"
   ]
  },
  {
   "cell_type": "markdown",
   "id": "9d75cfa2",
   "metadata": {
    "id": "9d75cfa2"
   },
   "source": [
    "## Explore the dataset and extract insights using Exploratory Data Analysis"
   ]
  },
  {
   "cell_type": "markdown",
   "id": "27201534",
   "metadata": {
    "id": "27201534"
   },
   "source": [
    "- Data Overview\n",
    "  - Viewing the first and last few rows of the dataset\n",
    "  - Checking the shape of the dataset\n",
    "  - Getting the statistical summary for the variables\n",
    "- Check for missing values\n",
    "- Check for duplicates"
   ]
  },
  {
   "cell_type": "code",
   "execution_count": 3,
   "id": "e1ad11d4",
   "metadata": {
    "id": "e1ad11d4"
   },
   "outputs": [
    {
     "data": {
      "text/html": [
       "<div>\n",
       "<style scoped>\n",
       "    .dataframe tbody tr th:only-of-type {\n",
       "        vertical-align: middle;\n",
       "    }\n",
       "\n",
       "    .dataframe tbody tr th {\n",
       "        vertical-align: top;\n",
       "    }\n",
       "\n",
       "    .dataframe thead th {\n",
       "        text-align: right;\n",
       "    }\n",
       "</style>\n",
       "<table border=\"1\" class=\"dataframe\">\n",
       "  <thead>\n",
       "    <tr style=\"text-align: right;\">\n",
       "      <th></th>\n",
       "      <th>user_id</th>\n",
       "      <th>group</th>\n",
       "      <th>landing_page</th>\n",
       "      <th>time_spent_on_the_page</th>\n",
       "      <th>converted</th>\n",
       "      <th>language_preferred</th>\n",
       "    </tr>\n",
       "  </thead>\n",
       "  <tbody>\n",
       "    <tr>\n",
       "      <th>0</th>\n",
       "      <td>546592</td>\n",
       "      <td>control</td>\n",
       "      <td>old</td>\n",
       "      <td>3.48</td>\n",
       "      <td>no</td>\n",
       "      <td>Spanish</td>\n",
       "    </tr>\n",
       "    <tr>\n",
       "      <th>1</th>\n",
       "      <td>546468</td>\n",
       "      <td>treatment</td>\n",
       "      <td>new</td>\n",
       "      <td>7.13</td>\n",
       "      <td>yes</td>\n",
       "      <td>English</td>\n",
       "    </tr>\n",
       "    <tr>\n",
       "      <th>2</th>\n",
       "      <td>546462</td>\n",
       "      <td>treatment</td>\n",
       "      <td>new</td>\n",
       "      <td>4.40</td>\n",
       "      <td>no</td>\n",
       "      <td>Spanish</td>\n",
       "    </tr>\n",
       "    <tr>\n",
       "      <th>3</th>\n",
       "      <td>546567</td>\n",
       "      <td>control</td>\n",
       "      <td>old</td>\n",
       "      <td>3.02</td>\n",
       "      <td>no</td>\n",
       "      <td>French</td>\n",
       "    </tr>\n",
       "    <tr>\n",
       "      <th>4</th>\n",
       "      <td>546459</td>\n",
       "      <td>treatment</td>\n",
       "      <td>new</td>\n",
       "      <td>4.75</td>\n",
       "      <td>yes</td>\n",
       "      <td>Spanish</td>\n",
       "    </tr>\n",
       "  </tbody>\n",
       "</table>\n",
       "</div>"
      ],
      "text/plain": [
       "   user_id      group landing_page  time_spent_on_the_page converted  \\\n",
       "0   546592    control          old                    3.48        no   \n",
       "1   546468  treatment          new                    7.13       yes   \n",
       "2   546462  treatment          new                    4.40        no   \n",
       "3   546567    control          old                    3.02        no   \n",
       "4   546459  treatment          new                    4.75       yes   \n",
       "\n",
       "  language_preferred  \n",
       "0            Spanish  \n",
       "1            English  \n",
       "2            Spanish  \n",
       "3             French  \n",
       "4            Spanish  "
      ]
     },
     "execution_count": 3,
     "metadata": {},
     "output_type": "execute_result"
    }
   ],
   "source": [
    "#viewing first 5 records\n",
    "enews.head()"
   ]
  },
  {
   "cell_type": "code",
   "execution_count": 4,
   "id": "ea19cf83",
   "metadata": {},
   "outputs": [
    {
     "data": {
      "text/html": [
       "<div>\n",
       "<style scoped>\n",
       "    .dataframe tbody tr th:only-of-type {\n",
       "        vertical-align: middle;\n",
       "    }\n",
       "\n",
       "    .dataframe tbody tr th {\n",
       "        vertical-align: top;\n",
       "    }\n",
       "\n",
       "    .dataframe thead th {\n",
       "        text-align: right;\n",
       "    }\n",
       "</style>\n",
       "<table border=\"1\" class=\"dataframe\">\n",
       "  <thead>\n",
       "    <tr style=\"text-align: right;\">\n",
       "      <th></th>\n",
       "      <th>user_id</th>\n",
       "      <th>group</th>\n",
       "      <th>landing_page</th>\n",
       "      <th>time_spent_on_the_page</th>\n",
       "      <th>converted</th>\n",
       "      <th>language_preferred</th>\n",
       "    </tr>\n",
       "  </thead>\n",
       "  <tbody>\n",
       "    <tr>\n",
       "      <th>95</th>\n",
       "      <td>546446</td>\n",
       "      <td>treatment</td>\n",
       "      <td>new</td>\n",
       "      <td>5.15</td>\n",
       "      <td>no</td>\n",
       "      <td>Spanish</td>\n",
       "    </tr>\n",
       "    <tr>\n",
       "      <th>96</th>\n",
       "      <td>546544</td>\n",
       "      <td>control</td>\n",
       "      <td>old</td>\n",
       "      <td>6.52</td>\n",
       "      <td>yes</td>\n",
       "      <td>English</td>\n",
       "    </tr>\n",
       "    <tr>\n",
       "      <th>97</th>\n",
       "      <td>546472</td>\n",
       "      <td>treatment</td>\n",
       "      <td>new</td>\n",
       "      <td>7.07</td>\n",
       "      <td>yes</td>\n",
       "      <td>Spanish</td>\n",
       "    </tr>\n",
       "    <tr>\n",
       "      <th>98</th>\n",
       "      <td>546481</td>\n",
       "      <td>treatment</td>\n",
       "      <td>new</td>\n",
       "      <td>6.20</td>\n",
       "      <td>yes</td>\n",
       "      <td>Spanish</td>\n",
       "    </tr>\n",
       "    <tr>\n",
       "      <th>99</th>\n",
       "      <td>546483</td>\n",
       "      <td>treatment</td>\n",
       "      <td>new</td>\n",
       "      <td>5.86</td>\n",
       "      <td>yes</td>\n",
       "      <td>English</td>\n",
       "    </tr>\n",
       "  </tbody>\n",
       "</table>\n",
       "</div>"
      ],
      "text/plain": [
       "    user_id      group landing_page  time_spent_on_the_page converted  \\\n",
       "95   546446  treatment          new                    5.15        no   \n",
       "96   546544    control          old                    6.52       yes   \n",
       "97   546472  treatment          new                    7.07       yes   \n",
       "98   546481  treatment          new                    6.20       yes   \n",
       "99   546483  treatment          new                    5.86       yes   \n",
       "\n",
       "   language_preferred  \n",
       "95            Spanish  \n",
       "96            English  \n",
       "97            Spanish  \n",
       "98            Spanish  \n",
       "99            English  "
      ]
     },
     "execution_count": 4,
     "metadata": {},
     "output_type": "execute_result"
    }
   ],
   "source": [
    "#viewing last 5 records\n",
    "enews.tail()"
   ]
  },
  {
   "cell_type": "code",
   "execution_count": 5,
   "id": "b4751c49",
   "metadata": {},
   "outputs": [
    {
     "name": "stdout",
     "output_type": "stream",
     "text": [
      "The dataset is made up of 100 rows and 6 columns.\n"
     ]
    }
   ],
   "source": [
    "#checking shape of dataframe\n",
    "print(f'The dataset is made up of {enews.shape[0]} rows and {enews.shape[1]} columns.')"
   ]
  },
  {
   "cell_type": "code",
   "execution_count": 6,
   "id": "a7356439",
   "metadata": {},
   "outputs": [
    {
     "name": "stdout",
     "output_type": "stream",
     "text": [
      "<class 'pandas.core.frame.DataFrame'>\n",
      "RangeIndex: 100 entries, 0 to 99\n",
      "Data columns (total 6 columns):\n",
      " #   Column                  Non-Null Count  Dtype  \n",
      "---  ------                  --------------  -----  \n",
      " 0   user_id                 100 non-null    int64  \n",
      " 1   group                   100 non-null    object \n",
      " 2   landing_page            100 non-null    object \n",
      " 3   time_spent_on_the_page  100 non-null    float64\n",
      " 4   converted               100 non-null    object \n",
      " 5   language_preferred      100 non-null    object \n",
      "dtypes: float64(1), int64(1), object(4)\n",
      "memory usage: 4.8+ KB\n"
     ]
    }
   ],
   "source": [
    "#checking data types\n",
    "enews.info()"
   ]
  },
  {
   "cell_type": "code",
   "execution_count": 7,
   "id": "1a268739",
   "metadata": {},
   "outputs": [
    {
     "name": "stdout",
     "output_type": "stream",
     "text": [
      "Number of missing values in the data: 0\n"
     ]
    }
   ],
   "source": [
    "#checking for missing values in the data\n",
    "print('Number of missing values in the data:',enews.isnull().sum().sum())"
   ]
  },
  {
   "cell_type": "code",
   "execution_count": 8,
   "id": "9224b0b5",
   "metadata": {},
   "outputs": [
    {
     "data": {
      "text/html": [
       "<div>\n",
       "<style scoped>\n",
       "    .dataframe tbody tr th:only-of-type {\n",
       "        vertical-align: middle;\n",
       "    }\n",
       "\n",
       "    .dataframe tbody tr th {\n",
       "        vertical-align: top;\n",
       "    }\n",
       "\n",
       "    .dataframe thead th {\n",
       "        text-align: right;\n",
       "    }\n",
       "</style>\n",
       "<table border=\"1\" class=\"dataframe\">\n",
       "  <thead>\n",
       "    <tr style=\"text-align: right;\">\n",
       "      <th></th>\n",
       "      <th>count</th>\n",
       "      <th>unique</th>\n",
       "      <th>top</th>\n",
       "      <th>freq</th>\n",
       "      <th>mean</th>\n",
       "      <th>std</th>\n",
       "      <th>min</th>\n",
       "      <th>25%</th>\n",
       "      <th>50%</th>\n",
       "      <th>75%</th>\n",
       "      <th>max</th>\n",
       "    </tr>\n",
       "  </thead>\n",
       "  <tbody>\n",
       "    <tr>\n",
       "      <th>user_id</th>\n",
       "      <td>100.0</td>\n",
       "      <td>NaN</td>\n",
       "      <td>NaN</td>\n",
       "      <td>NaN</td>\n",
       "      <td>546517.0</td>\n",
       "      <td>52.295779</td>\n",
       "      <td>546443.0</td>\n",
       "      <td>546467.75</td>\n",
       "      <td>546492.5</td>\n",
       "      <td>546567.25</td>\n",
       "      <td>546592.0</td>\n",
       "    </tr>\n",
       "    <tr>\n",
       "      <th>group</th>\n",
       "      <td>100</td>\n",
       "      <td>2</td>\n",
       "      <td>control</td>\n",
       "      <td>50</td>\n",
       "      <td>NaN</td>\n",
       "      <td>NaN</td>\n",
       "      <td>NaN</td>\n",
       "      <td>NaN</td>\n",
       "      <td>NaN</td>\n",
       "      <td>NaN</td>\n",
       "      <td>NaN</td>\n",
       "    </tr>\n",
       "    <tr>\n",
       "      <th>landing_page</th>\n",
       "      <td>100</td>\n",
       "      <td>2</td>\n",
       "      <td>old</td>\n",
       "      <td>50</td>\n",
       "      <td>NaN</td>\n",
       "      <td>NaN</td>\n",
       "      <td>NaN</td>\n",
       "      <td>NaN</td>\n",
       "      <td>NaN</td>\n",
       "      <td>NaN</td>\n",
       "      <td>NaN</td>\n",
       "    </tr>\n",
       "    <tr>\n",
       "      <th>time_spent_on_the_page</th>\n",
       "      <td>100.0</td>\n",
       "      <td>NaN</td>\n",
       "      <td>NaN</td>\n",
       "      <td>NaN</td>\n",
       "      <td>5.3778</td>\n",
       "      <td>2.378166</td>\n",
       "      <td>0.19</td>\n",
       "      <td>3.88</td>\n",
       "      <td>5.415</td>\n",
       "      <td>7.0225</td>\n",
       "      <td>10.71</td>\n",
       "    </tr>\n",
       "    <tr>\n",
       "      <th>converted</th>\n",
       "      <td>100</td>\n",
       "      <td>2</td>\n",
       "      <td>yes</td>\n",
       "      <td>54</td>\n",
       "      <td>NaN</td>\n",
       "      <td>NaN</td>\n",
       "      <td>NaN</td>\n",
       "      <td>NaN</td>\n",
       "      <td>NaN</td>\n",
       "      <td>NaN</td>\n",
       "      <td>NaN</td>\n",
       "    </tr>\n",
       "    <tr>\n",
       "      <th>language_preferred</th>\n",
       "      <td>100</td>\n",
       "      <td>3</td>\n",
       "      <td>Spanish</td>\n",
       "      <td>34</td>\n",
       "      <td>NaN</td>\n",
       "      <td>NaN</td>\n",
       "      <td>NaN</td>\n",
       "      <td>NaN</td>\n",
       "      <td>NaN</td>\n",
       "      <td>NaN</td>\n",
       "      <td>NaN</td>\n",
       "    </tr>\n",
       "  </tbody>\n",
       "</table>\n",
       "</div>"
      ],
      "text/plain": [
       "                        count unique      top freq      mean        std  \\\n",
       "user_id                 100.0    NaN      NaN  NaN  546517.0  52.295779   \n",
       "group                     100      2  control   50       NaN        NaN   \n",
       "landing_page              100      2      old   50       NaN        NaN   \n",
       "time_spent_on_the_page  100.0    NaN      NaN  NaN    5.3778   2.378166   \n",
       "converted                 100      2      yes   54       NaN        NaN   \n",
       "language_preferred        100      3  Spanish   34       NaN        NaN   \n",
       "\n",
       "                             min        25%       50%        75%       max  \n",
       "user_id                 546443.0  546467.75  546492.5  546567.25  546592.0  \n",
       "group                        NaN        NaN       NaN        NaN       NaN  \n",
       "landing_page                 NaN        NaN       NaN        NaN       NaN  \n",
       "time_spent_on_the_page      0.19       3.88     5.415     7.0225     10.71  \n",
       "converted                    NaN        NaN       NaN        NaN       NaN  \n",
       "language_preferred           NaN        NaN       NaN        NaN       NaN  "
      ]
     },
     "execution_count": 8,
     "metadata": {},
     "output_type": "execute_result"
    }
   ],
   "source": [
    "#checking statistical summary\n",
    "enews.describe(include='all').T"
   ]
  },
  {
   "cell_type": "code",
   "execution_count": 9,
   "id": "24d48e03",
   "metadata": {},
   "outputs": [
    {
     "name": "stdout",
     "output_type": "stream",
     "text": [
      "Number of duplicate rows in the data: 0\n"
     ]
    }
   ],
   "source": [
    "#checking for duplicate values\n",
    "print('Number of duplicate rows in the data:',enews.duplicated().sum())"
   ]
  },
  {
   "cell_type": "code",
   "execution_count": 10,
   "id": "0b9be94d",
   "metadata": {},
   "outputs": [
    {
     "data": {
      "text/html": [
       "<div>\n",
       "<style scoped>\n",
       "    .dataframe tbody tr th:only-of-type {\n",
       "        vertical-align: middle;\n",
       "    }\n",
       "\n",
       "    .dataframe tbody tr th {\n",
       "        vertical-align: top;\n",
       "    }\n",
       "\n",
       "    .dataframe thead th {\n",
       "        text-align: right;\n",
       "    }\n",
       "</style>\n",
       "<table border=\"1\" class=\"dataframe\">\n",
       "  <thead>\n",
       "    <tr style=\"text-align: right;\">\n",
       "      <th></th>\n",
       "      <th>0</th>\n",
       "    </tr>\n",
       "  </thead>\n",
       "  <tbody>\n",
       "    <tr>\n",
       "      <th>user_id</th>\n",
       "      <td>100</td>\n",
       "    </tr>\n",
       "    <tr>\n",
       "      <th>group</th>\n",
       "      <td>2</td>\n",
       "    </tr>\n",
       "    <tr>\n",
       "      <th>landing_page</th>\n",
       "      <td>2</td>\n",
       "    </tr>\n",
       "    <tr>\n",
       "      <th>time_spent_on_the_page</th>\n",
       "      <td>94</td>\n",
       "    </tr>\n",
       "    <tr>\n",
       "      <th>converted</th>\n",
       "      <td>2</td>\n",
       "    </tr>\n",
       "    <tr>\n",
       "      <th>language_preferred</th>\n",
       "      <td>3</td>\n",
       "    </tr>\n",
       "  </tbody>\n",
       "</table>\n",
       "</div>"
      ],
      "text/plain": [
       "                          0\n",
       "user_id                 100\n",
       "group                     2\n",
       "landing_page              2\n",
       "time_spent_on_the_page   94\n",
       "converted                 2\n",
       "language_preferred        3"
      ]
     },
     "execution_count": 10,
     "metadata": {},
     "output_type": "execute_result"
    }
   ],
   "source": [
    "#checking unique values\n",
    "enews.nunique().to_frame()"
   ]
  },
  {
   "cell_type": "markdown",
   "id": "1f377923",
   "metadata": {},
   "source": [
    "#### Observations\n",
    "\n",
    "- The dataset has 100 rows and 6 columns.\n",
    "- There are 2 numerical variables.\n",
    "    - user_id: int64 - this value is unique to each row\n",
    "    - time_spent_on_the_page: float64\n",
    "- There are 4 categorical (object) variables.\n",
    "    - group - there are two distinct values: control, treatment\n",
    "    - landing_page - there are two distinct values: old, new\n",
    "    - converted - there are two distinct values: yes, no\n",
    "    - language_preferred - there are three distinct values: English, Spanish, French\n",
    "- There are no missing values and no duplicate rows in the data."
   ]
  },
  {
   "cell_type": "markdown",
   "id": "68f3b2c9",
   "metadata": {
    "id": "68f3b2c9"
   },
   "source": [
    "### Univariate Analysis"
   ]
  },
  {
   "cell_type": "code",
   "execution_count": 11,
   "id": "1932d0f3",
   "metadata": {
    "id": "1932d0f3"
   },
   "outputs": [
    {
     "data": {
      "image/png": "[encoded data removed]",
      "text/plain": [
       "<Figure size 432x288 with 1 Axes>"
      ]
     },
     "metadata": {
      "needs_background": "light"
     },
     "output_type": "display_data"
    },
    {
     "data": {
      "image/png": "[encoded data removed]",
      "text/plain": [
       "<Figure size 432x288 with 1 Axes>"
      ]
     },
     "metadata": {
      "needs_background": "light"
     },
     "output_type": "display_data"
    },
    {
     "data": {
      "image/png": "[encoded data removed]",
      "text/plain": [
       "<Figure size 432x288 with 1 Axes>"
      ]
     },
     "metadata": {
      "needs_background": "light"
     },
     "output_type": "display_data"
    },
    {
     "data": {
      "image/png": "[encoded data removed]",
      "text/plain": [
       "<Figure size 432x288 with 1 Axes>"
      ]
     },
     "metadata": {
      "needs_background": "light"
     },
     "output_type": "display_data"
    },
    {
     "data": {
      "image/png": "[encoded data removed]",
      "text/plain": [
       "<Figure size 432x288 with 1 Axes>"
      ]
     },
     "metadata": {
      "needs_background": "light"
     },
     "output_type": "display_data"
    },
    {
     "data": {
      "text/html": [
       "<div>\n",
       "<style scoped>\n",
       "    .dataframe tbody tr th:only-of-type {\n",
       "        vertical-align: middle;\n",
       "    }\n",
       "\n",
       "    .dataframe tbody tr th {\n",
       "        vertical-align: top;\n",
       "    }\n",
       "\n",
       "    .dataframe thead th {\n",
       "        text-align: right;\n",
       "    }\n",
       "</style>\n",
       "<table border=\"1\" class=\"dataframe\">\n",
       "  <thead>\n",
       "    <tr style=\"text-align: right;\">\n",
       "      <th></th>\n",
       "      <th>Spanish</th>\n",
       "      <th>French</th>\n",
       "      <th>English</th>\n",
       "    </tr>\n",
       "  </thead>\n",
       "  <tbody>\n",
       "    <tr>\n",
       "      <th>language_preferred</th>\n",
       "      <td>34</td>\n",
       "      <td>34</td>\n",
       "      <td>32</td>\n",
       "    </tr>\n",
       "  </tbody>\n",
       "</table>\n",
       "</div>"
      ],
      "text/plain": [
       "                    Spanish  French  English\n",
       "language_preferred       34      34       32"
      ]
     },
     "execution_count": 11,
     "metadata": {},
     "output_type": "execute_result"
    }
   ],
   "source": [
    "#countplots to show count of landing page and group\n",
    "sns.countplot(data=enews, x='landing_page')\n",
    "plt.show()\n",
    "sns.countplot(data=enews, x='group')\n",
    "plt.show()\n",
    "\n",
    "#countplot to show conversions\n",
    "sns.countplot(data=enews, x='converted')\n",
    "plt.show()\n",
    "\n",
    "#boxplot and histplot to visualize distribution of time spent on landing page\n",
    "sns.boxplot(data=enews, y='time_spent_on_the_page')\n",
    "plt.show()\n",
    "sns.histplot(data=enews, x='time_spent_on_the_page', kde=True)\n",
    "plt.show()\n",
    "\n",
    "#count by language\n",
    "enews['language_preferred'].value_counts().to_frame().T"
   ]
  },
  {
   "cell_type": "markdown",
   "id": "c603b7df",
   "metadata": {},
   "source": [
    "#### Observations\n",
    "\n",
    "- The landing page and group graphs are identical. This is what we would expect since the values are dependent on each other and essentially refer to the same thing (i.e. control group was served the old landing page, while treatment group was served the new landing page).\n",
    "- The conversion rate does not really mean much until we break it out and look at it by group. No meaningful insight can really be drawn while looking at it in totality.\n",
    "- The amount of time spent on the landing page is normally distributed. It will be interesting to see if this carries over when looking at it by group.\n",
    "- The count of users by language is almost equally split between English, Spanish, and French, with the latter two being only slightly higher than English."
   ]
  },
  {
   "cell_type": "markdown",
   "id": "fad2de2f",
   "metadata": {
    "id": "fad2de2f"
   },
   "source": [
    "### Bivariate Analysis"
   ]
  },
  {
   "cell_type": "code",
   "execution_count": 12,
   "id": "58e9a1d0",
   "metadata": {
    "id": "58e9a1d0"
   },
   "outputs": [
    {
     "data": {
      "image/png": "[encoded data removed]",
      "text/plain": [
       "<Figure size 432x288 with 1 Axes>"
      ]
     },
     "metadata": {
      "needs_background": "light"
     },
     "output_type": "display_data"
    },
    {
     "data": {
      "image/png": "[encoded data removed]",
      "text/plain": [
       "<Figure size 432x288 with 1 Axes>"
      ]
     },
     "metadata": {
      "needs_background": "light"
     },
     "output_type": "display_data"
    },
    {
     "data": {
      "image/png": "[encoded data removed]",
      "text/plain": [
       "<Figure size 432x288 with 1 Axes>"
      ]
     },
     "metadata": {
      "needs_background": "light"
     },
     "output_type": "display_data"
    }
   ],
   "source": [
    "#boxplots to compare language vs time spent on new page & old page by landing page\n",
    "sns.boxplot(data=enews,x='language_preferred',y='time_spent_on_the_page',hue='landing_page',showmeans=True)\n",
    "plt.show()\n",
    "\n",
    "#boxplots to compare time spent vs new landing page & old landing page by conversion\n",
    "sns.boxplot(data=enews,x='landing_page',y='time_spent_on_the_page',hue='converted',showmeans=True)\n",
    "plt.show()\n",
    "\n",
    "#countplot to compare group vs conversion\n",
    "sns.countplot(data=enews,x='group',hue='converted')\n",
    "plt.show()"
   ]
  },
  {
   "cell_type": "markdown",
   "id": "c53e705d",
   "metadata": {},
   "source": [
    "#### Observations\n",
    "\n",
    "- Preferred language does not seem to have an impact on how much time the user spends on the landing page - the means are all similar.\n",
    "    - The means for time spent on the old page is lower than the means for time spent on the new page.\n",
    "- Users seem to be spending more time, on average, on the new landing page than the old landing page.\n",
    "    - This is true for both converted and non-converted users.\n",
    "    - The mean for conversion rate is higher on the new landing page than the old landing page.\n",
    "- Converted users spend more time on the landing page than non-converted users.\n",
    "- Conversion rate is higher in the treatment group (users who receive new landing page)."
   ]
  },
  {
   "cell_type": "markdown",
   "id": "27906576",
   "metadata": {
    "id": "27906576"
   },
   "source": [
    "## 1. Do the users spend more time on the new landing page than the existing landing page?"
   ]
  },
  {
   "cell_type": "markdown",
   "id": "e5fdf0c8",
   "metadata": {
    "id": "e5fdf0c8"
   },
   "source": [
    "### Perform Visual Analysis"
   ]
  },
  {
   "cell_type": "code",
   "execution_count": 13,
   "id": "6eZJa41eg21n",
   "metadata": {
    "id": "6eZJa41eg21n"
   },
   "outputs": [
    {
     "data": {
      "image/png": "[encoded data removed]",
      "text/plain": [
       "<Figure size 432x288 with 1 Axes>"
      ]
     },
     "metadata": {
      "needs_background": "light"
     },
     "output_type": "display_data"
    }
   ],
   "source": [
    "#boxplot for time spent vs landing page\n",
    "sns.boxplot(data=enews,x='landing_page',y='time_spent_on_the_page',showmeans=True)\n",
    "plt.show()"
   ]
  },
  {
   "cell_type": "markdown",
   "id": "56b3dafd",
   "metadata": {
    "id": "56b3dafd"
   },
   "source": [
    "### Step 1: Define the null and alternate hypotheses"
   ]
  },
  {
   "cell_type": "markdown",
   "id": "d2ac77ef",
   "metadata": {
    "id": "d2ac77ef"
   },
   "source": [
    "Let $\\mu_1$ be the mean time spent on the new landing page.\n",
    "<br>\n",
    "Let $\\mu_2$ be the mean time spent on the old landing page.\n",
    "\n",
    "$H_0:\\mu_1=\\mu_2$\n",
    "\n",
    "$H_a:\\mu_1>\\mu_2$"
   ]
  },
  {
   "cell_type": "markdown",
   "id": "c7ee4907",
   "metadata": {
    "id": "c7ee4907"
   },
   "source": [
    "### Step 2: Select Appropriate test"
   ]
  },
  {
   "cell_type": "markdown",
   "id": "2c183cd7",
   "metadata": {
    "id": "2c183cd7"
   },
   "source": [
    "We will use a two sample indepedent t-test since the populations are independent and standard deviations are unknown."
   ]
  },
  {
   "cell_type": "markdown",
   "id": "3f58c9a7",
   "metadata": {
    "id": "3f58c9a7"
   },
   "source": [
    "### Step 3: Decide the significance level"
   ]
  },
  {
   "cell_type": "markdown",
   "id": "92d7d7ee",
   "metadata": {
    "id": "92d7d7ee"
   },
   "source": [
    "Based on the problem statement, we can assume $\\alpha = 0.05$"
   ]
  },
  {
   "cell_type": "markdown",
   "id": "5fed2eac",
   "metadata": {
    "id": "5fed2eac"
   },
   "source": [
    "### Step 4: Collect and prepare data"
   ]
  },
  {
   "cell_type": "code",
   "execution_count": 14,
   "id": "f5a59495",
   "metadata": {
    "id": "f5a59495"
   },
   "outputs": [
    {
     "name": "stdout",
     "output_type": "stream",
     "text": [
      "old page sample mean: 4.532400000000001 \n",
      "new page sample mean: 6.2232 \n",
      "old page sample std dev: 2.581974849306046 \n",
      "new page sample std dev: 1.8170310387878263\n"
     ]
    }
   ],
   "source": [
    "#new variables for time spent on the old & new landing page\n",
    "new_enews = enews[enews['landing_page']=='new']['time_spent_on_the_page']\n",
    "old_enews = enews[enews['landing_page']=='old']['time_spent_on_the_page']\n",
    "\n",
    "#printing sample means and std deviations\n",
    "print('old page sample mean:',old_enews.mean(),\n",
    "      '\\nnew page sample mean:',new_enews.mean(),\n",
    "      '\\nold page sample std dev:',old_enews.std(),\n",
    "      '\\nnew page sample std dev:',new_enews.std())"
   ]
  },
  {
   "cell_type": "markdown",
   "id": "f5c5258d",
   "metadata": {
    "id": "f5c5258d"
   },
   "source": [
    "### Step 5: Calculate the p-value"
   ]
  },
  {
   "cell_type": "code",
   "execution_count": 15,
   "id": "fac8594a",
   "metadata": {
    "id": "fac8594a"
   },
   "outputs": [
    {
     "name": "stdout",
     "output_type": "stream",
     "text": [
      "p-value: 0.0001392381225166549\n"
     ]
    }
   ],
   "source": [
    "#import\n",
    "from scipy.stats import ttest_ind\n",
    "\n",
    "#caclulate p-value\n",
    "test_stat, p_value = ttest_ind(new_enews, old_enews, equal_var=False, alternative='greater')\n",
    "print('p-value:', p_value)"
   ]
  },
  {
   "cell_type": "markdown",
   "id": "359b12f8",
   "metadata": {
    "id": "359b12f8"
   },
   "source": [
    "### Step 6: Compare the p-value with $\\alpha$"
   ]
  },
  {
   "cell_type": "code",
   "execution_count": 16,
   "id": "7be47289",
   "metadata": {
    "id": "7be47289"
   },
   "outputs": [
    {
     "name": "stdout",
     "output_type": "stream",
     "text": [
      "Since the p-value 0.0001392381225166549 is less than 0.05, we reject the null hypothesis.\n"
     ]
    }
   ],
   "source": [
    "#evalute p-value against alpha\n",
    "pval_comp(p_value)"
   ]
  },
  {
   "cell_type": "markdown",
   "id": "d9affc84",
   "metadata": {
    "id": "d9affc84"
   },
   "source": [
    "### Step 7:  Draw inference"
   ]
  },
  {
   "cell_type": "markdown",
   "id": "6b16dd4b",
   "metadata": {
    "id": "6b16dd4b"
   },
   "source": [
    "With 95% confidence, there is enough evidence to suggest that users are spending more time on the new landing page than they did on the old landing page."
   ]
  },
  {
   "cell_type": "markdown",
   "id": "1ad0823a",
   "metadata": {
    "id": "1ad0823a"
   },
   "source": [
    "**A similar approach can be followed to answer the other questions.**"
   ]
  },
  {
   "cell_type": "markdown",
   "id": "353e9d24",
   "metadata": {
    "id": "353e9d24"
   },
   "source": [
    "## 2. Is the conversion rate (the proportion of users who visit the landing page and get converted) for the new page greater than the conversion rate for the old page?"
   ]
  },
  {
   "cell_type": "code",
   "execution_count": 17,
   "id": "b7f52898",
   "metadata": {
    "id": "b7f52898"
   },
   "outputs": [
    {
     "data": {
      "text/html": [
       "<div>\n",
       "<style scoped>\n",
       "    .dataframe tbody tr th:only-of-type {\n",
       "        vertical-align: middle;\n",
       "    }\n",
       "\n",
       "    .dataframe tbody tr th {\n",
       "        vertical-align: top;\n",
       "    }\n",
       "\n",
       "    .dataframe thead th {\n",
       "        text-align: right;\n",
       "    }\n",
       "</style>\n",
       "<table border=\"1\" class=\"dataframe\">\n",
       "  <thead>\n",
       "    <tr style=\"text-align: right;\">\n",
       "      <th>converted</th>\n",
       "      <th>no</th>\n",
       "      <th>yes</th>\n",
       "    </tr>\n",
       "    <tr>\n",
       "      <th>landing_page</th>\n",
       "      <th></th>\n",
       "      <th></th>\n",
       "    </tr>\n",
       "  </thead>\n",
       "  <tbody>\n",
       "    <tr>\n",
       "      <th>new</th>\n",
       "      <td>17</td>\n",
       "      <td>33</td>\n",
       "    </tr>\n",
       "    <tr>\n",
       "      <th>old</th>\n",
       "      <td>29</td>\n",
       "      <td>21</td>\n",
       "    </tr>\n",
       "  </tbody>\n",
       "</table>\n",
       "</div>"
      ],
      "text/plain": [
       "converted     no  yes\n",
       "landing_page         \n",
       "new           17   33\n",
       "old           29   21"
      ]
     },
     "execution_count": 17,
     "metadata": {},
     "output_type": "execute_result"
    }
   ],
   "source": [
    "#use crosstab to view the proportions as a table\n",
    "pd.crosstab(enews['landing_page'],enews['converted'])"
   ]
  },
  {
   "cell_type": "markdown",
   "id": "5f52a8b7",
   "metadata": {},
   "source": [
    "Let $p_1$ be the conversion rate for the new landing page.\n",
    "<br>\n",
    "Let $p_2$ be the conversion rate for the old landing page.\n",
    "\n",
    "$H_0:p_1 = p_2$ \n",
    "\n",
    "$H_a:p_1 > p_2$ \n",
    "\n",
    "We will use a two sample z-test on the proportions."
   ]
  },
  {
   "cell_type": "code",
   "execution_count": 18,
   "id": "5d970660",
   "metadata": {},
   "outputs": [
    {
     "name": "stdout",
     "output_type": "stream",
     "text": [
      "Since the p-value 0.008026308204056278 is less than 0.05, we reject the null hypothesis.\n"
     ]
    }
   ],
   "source": [
    "#array to hold the conversions\n",
    "conversions = np.array([enews[enews['landing_page']=='new']['converted'].value_counts()['yes'],\n",
    "                        enews[enews['landing_page']=='old']['converted'].value_counts()['yes']])\n",
    "\n",
    "#array to hold sample sizes\n",
    "sample_sizes = np.array([enews['landing_page'].value_counts()['new'],\n",
    "                         enews['landing_page'].value_counts()['old']])\n",
    "\n",
    "#import function\n",
    "from statsmodels.stats.proportion import proportions_ztest\n",
    "\n",
    "#calculate p-value\n",
    "test_stat, p_value = proportions_ztest(conversions, sample_sizes, alternative = 'larger')\n",
    "\n",
    "#evalute p-value against alpha\n",
    "pval_comp(p_value)"
   ]
  },
  {
   "cell_type": "markdown",
   "id": "2d6ff10c",
   "metadata": {},
   "source": [
    "### Inference\n",
    "\n",
    "With 95% confidence, there is enough evidence to suggest that the conversion rate for users of the new landing page is higher than that of users on the old landing page."
   ]
  },
  {
   "cell_type": "markdown",
   "id": "d49bfa2d",
   "metadata": {
    "id": "d49bfa2d"
   },
   "source": [
    "## 3. Is the conversion and preferred language are independent or related?"
   ]
  },
  {
   "cell_type": "code",
   "execution_count": 19,
   "id": "b0e63f17",
   "metadata": {
    "id": "b0e63f17"
   },
   "outputs": [
    {
     "data": {
      "text/html": [
       "<div>\n",
       "<style scoped>\n",
       "    .dataframe tbody tr th:only-of-type {\n",
       "        vertical-align: middle;\n",
       "    }\n",
       "\n",
       "    .dataframe tbody tr th {\n",
       "        vertical-align: top;\n",
       "    }\n",
       "\n",
       "    .dataframe thead th {\n",
       "        text-align: right;\n",
       "    }\n",
       "</style>\n",
       "<table border=\"1\" class=\"dataframe\">\n",
       "  <thead>\n",
       "    <tr style=\"text-align: right;\">\n",
       "      <th>converted</th>\n",
       "      <th>no</th>\n",
       "      <th>yes</th>\n",
       "    </tr>\n",
       "    <tr>\n",
       "      <th>language_preferred</th>\n",
       "      <th></th>\n",
       "      <th></th>\n",
       "    </tr>\n",
       "  </thead>\n",
       "  <tbody>\n",
       "    <tr>\n",
       "      <th>English</th>\n",
       "      <td>11</td>\n",
       "      <td>21</td>\n",
       "    </tr>\n",
       "    <tr>\n",
       "      <th>French</th>\n",
       "      <td>19</td>\n",
       "      <td>15</td>\n",
       "    </tr>\n",
       "    <tr>\n",
       "      <th>Spanish</th>\n",
       "      <td>16</td>\n",
       "      <td>18</td>\n",
       "    </tr>\n",
       "  </tbody>\n",
       "</table>\n",
       "</div>"
      ],
      "text/plain": [
       "converted           no  yes\n",
       "language_preferred         \n",
       "English             11   21\n",
       "French              19   15\n",
       "Spanish             16   18"
      ]
     },
     "execution_count": 19,
     "metadata": {},
     "output_type": "execute_result"
    }
   ],
   "source": [
    "#use crosstab to view the proportions as a table\n",
    "enews_tab = pd.crosstab(enews['language_preferred'],enews['converted'])\n",
    "enews_tab"
   ]
  },
  {
   "cell_type": "markdown",
   "id": "1d86c467",
   "metadata": {},
   "source": [
    "$H_0:$ Conversion status and preferred language are independent.\n",
    "\n",
    "$H_a:$ Conversion status and preferred language are not independent.\n",
    "\n",
    "We will use a chi-square test of independence to determine whether or not conversion status and preferred language are independent."
   ]
  },
  {
   "cell_type": "code",
   "execution_count": 20,
   "id": "93099e99",
   "metadata": {},
   "outputs": [
    {
     "name": "stdout",
     "output_type": "stream",
     "text": [
      "Since the p-value 0.2129888748754345 is greater than 0.05, we fail to reject the null hypothesis.\n"
     ]
    }
   ],
   "source": [
    "#import function\n",
    "from scipy.stats import chi2_contingency\n",
    "\n",
    "#calculate p-value\n",
    "chi2, p_value, dof, exp_freq = chi2_contingency(enews_tab)\n",
    "\n",
    "#evalute p-value against alpha\n",
    "pval_comp(p_value)"
   ]
  },
  {
   "cell_type": "markdown",
   "id": "0257153c",
   "metadata": {},
   "source": [
    "### Inference\n",
    "\n",
    "With 95% confidence, there is enough evidence to suggest that conversion status and preferred language are independent of each other."
   ]
  },
  {
   "cell_type": "markdown",
   "id": "8d585a90",
   "metadata": {
    "id": "8d585a90"
   },
   "source": [
    "## 4. Is the time spent on the new page same for the different language users?"
   ]
  },
  {
   "cell_type": "code",
   "execution_count": 21,
   "id": "b422f395",
   "metadata": {
    "id": "b422f395"
   },
   "outputs": [
    {
     "data": {
      "image/png": "[encoded data removed]",
      "text/plain": [
       "<Figure size 432x288 with 1 Axes>"
      ]
     },
     "metadata": {
      "needs_background": "light"
     },
     "output_type": "display_data"
    }
   ],
   "source": [
    "#new dataframe to filter out only the users in the treatment group\n",
    "enews_treatment = enews[enews['group']=='treatment']\n",
    "\n",
    "#boxplot to visualize distribution of time spent on landing page\n",
    "sns.boxplot(data=enews_treatment, x='language_preferred', y='time_spent_on_the_page',showmeans=True)\n",
    "plt.show()"
   ]
  },
  {
   "cell_type": "markdown",
   "id": "996872fb",
   "metadata": {},
   "source": [
    "Let $\\mu_1$ be the mean time spent on the page for English speakers.\n",
    "<br>\n",
    "Let $\\mu_2$ be the mean time spent on the page for Spanish speakers.\n",
    "<br>\n",
    "Let $\\mu_3$ be the mean time spent on the page for French speakers.\n",
    "\n",
    "$H_0:\\mu_1 = \\mu_2 = \\mu_3$ \n",
    "\n",
    "$H_a:\\mu_1 \\neq \\mu_2$ or $\\mu_2 \\neq \\mu_3$ or $\\mu_1 \\neq \\mu_3$\n",
    "\n",
    "We will use a one-way ANOVA f-test to compare the means of time spent on the landing page for each preferred language."
   ]
  },
  {
   "cell_type": "code",
   "execution_count": 22,
   "id": "07b82633",
   "metadata": {},
   "outputs": [
    {
     "name": "stdout",
     "output_type": "stream",
     "text": [
      "Since the p-value 0.43204138694325955 is greater than 0.05, we fail to reject the null hypothesis.\n"
     ]
    }
   ],
   "source": [
    "#import function\n",
    "from scipy.stats import f_oneway\n",
    "\n",
    "#calculate p-value\n",
    "test_stat, p_value = f_oneway(enews_treatment.loc[enews_treatment['language_preferred']=='English','time_spent_on_the_page'],\n",
    "                              enews_treatment.loc[enews_treatment['language_preferred']=='Spanish','time_spent_on_the_page'],\n",
    "                              enews_treatment.loc[enews_treatment['language_preferred']=='French','time_spent_on_the_page'])\n",
    "\n",
    "#evalute p-value against alpha\n",
    "pval_comp(p_value)"
   ]
  },
  {
   "cell_type": "markdown",
   "id": "52d19bb0",
   "metadata": {},
   "source": [
    "### Inference\n",
    "\n",
    "With 95% confidence, there is enough evidence to suggest that the mean amount of time spent on the new landing page is the same for each language."
   ]
  },
  {
   "cell_type": "markdown",
   "id": "3acbc947",
   "metadata": {
    "id": "3acbc947"
   },
   "source": [
    "## Conclusion and Business Recommendations"
   ]
  },
  {
   "cell_type": "markdown",
   "id": "21fb1063",
   "metadata": {
    "id": "21fb1063"
   },
   "source": [
    "#### Conclusions\n",
    "- Users are spending more time on the new landing page than they are on the old landing page.\n",
    "- The conversion rate for the new landing page is higher than the conversion rate for the old landing page.\n",
    "- Conversion status is not dependent on the user's preferred language.\n",
    "- Users are spending roughly the same amount of time on the new landing page regardless of their preferred language.\n",
    "\n",
    "#### Recommendations\n",
    "- I would suggest that the business roll out the new landing page.\n",
    "    - The conversion rate is higher than the old page, and users are spending more time on the newer page than they are on the older page.\n",
    "- Since the user's preferred language does not seem to have much of an impact on the amount of time a user spends on the landing page, it makes sense to keep the languages configured the way they currently are on the website.\n",
    "    - If there was a bigger discrepancy between the languages, it might make sense to add or remove more content in that particular language; however, this is not the case.\n",
    "    - E-news Express might want to look at adding support for additional languages in the future. This will help the company reacher an even larger audience of readers."
   ]
  }
 ],
 "metadata": {
  "colab": {
   "collapsed_sections": [
    "a6a3d218",
    "6970dd99",
    "9d75cfa2",
    "68f3b2c9",
    "fad2de2f",
    "27906576",
    "e5fdf0c8",
    "56b3dafd",
    "c7ee4907",
    "3f58c9a7",
    "5fed2eac",
    "f5c5258d",
    "359b12f8",
    "d9affc84",
    "353e9d24",
    "d49bfa2d",
    "8d585a90",
    "3acbc947"
   ],
   "name": "ENews_Express_Learner_Notebook_Full_Code v1.1.ipynb",
   "provenance": []
  },
  "kernelspec": {
   "display_name": "Python 3 (ipykernel)",
   "language": "python",
   "name": "python3"
  },
  "language_info": {
   "codemirror_mode": {
    "name": "ipython",
    "version": 3
   },
   "file_extension": ".py",
   "mimetype": "text/x-python",
   "name": "python",
   "nbconvert_exporter": "python",
   "pygments_lexer": "ipython3",
   "version": "3.9.7"
  }
 },
 "nbformat": 4,
 "nbformat_minor": 5
}
